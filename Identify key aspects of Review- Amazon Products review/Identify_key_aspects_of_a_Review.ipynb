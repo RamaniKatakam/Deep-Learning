{
  "nbformat": 4,
  "nbformat_minor": 0,
  "metadata": {
    "kernelspec": {
      "display_name": "Python 3",
      "language": "python",
      "name": "python3"
    },
    "language_info": {
      "codemirror_mode": {
        "name": "ipython",
        "version": 3
      },
      "file_extension": ".py",
      "mimetype": "text/x-python",
      "name": "python",
      "nbconvert_exporter": "python",
      "pygments_lexer": "ipython3",
      "version": "3.6.5"
    },
    "colab": {
      "name": "Identify key aspects of a Review.ipynb",
      "provenance": []
    }
  },
  "cells": [
    {
      "cell_type": "markdown",
      "metadata": {
        "id": "_8jo_iuEVhpH",
        "colab_type": "text"
      },
      "source": [
        "## Importing Libraries"
      ]
    },
    {
      "cell_type": "code",
      "metadata": {
        "id": "L0awKkagVhpK",
        "colab_type": "code",
        "colab": {},
        "outputId": "9d1bdf4e-36c7-42d6-a786-b6f9d6fca2ae"
      },
      "source": [
        "import os\n",
        "import re\n",
        "import csv\n",
        "import codecs\n",
        "import numpy as np\n",
        "import pandas as pd\n",
        "\n",
        "from nltk.corpus import stopwords\n",
        "from nltk.stem import SnowballStemmer\n",
        "from string import punctuation\n",
        "\n",
        "from gensim.models import KeyedVectors\n",
        "from keras.preprocessing.text import Tokenizer\n",
        "from keras.preprocessing.sequence import pad_sequences\n",
        "from keras.layers import Dense, Input, LSTM, Embedding, Dropout, Activation\n",
        "from keras.layers.merge import concatenate\n",
        "from keras.models import Model\n",
        "from keras.layers.normalization import BatchNormalization\n",
        "from keras.callbacks import EarlyStopping, ModelCheckpoint\n",
        "\n",
        "import sys\n",
        "\n"
      ],
      "execution_count": 0,
      "outputs": [
        {
          "output_type": "stream",
          "text": [
            "C:\\Users\\raman\\Anaconda3\\lib\\site-packages\\h5py\\__init__.py:36: FutureWarning: Conversion of the second argument of issubdtype from `float` to `np.floating` is deprecated. In future, it will be treated as `np.float64 == np.dtype(float).type`.\n",
            "  from ._conv import register_converters as _register_converters\n",
            "Using TensorFlow backend.\n"
          ],
          "name": "stderr"
        }
      ]
    },
    {
      "cell_type": "markdown",
      "metadata": {
        "id": "PiNKwumQVhpS",
        "colab_type": "text"
      },
      "source": [
        "## Reading and preprocessing data"
      ]
    },
    {
      "cell_type": "code",
      "metadata": {
        "id": "rhlnTtSMVhpT",
        "colab_type": "code",
        "colab": {}
      },
      "source": [
        "df=pd.read_csv(r'C:\\Users\\raman\\Downloads\\2901c100-b-Dataset\\Dataset\\train.csv')"
      ],
      "execution_count": 0,
      "outputs": []
    },
    {
      "cell_type": "code",
      "metadata": {
        "id": "YK-MtpjZVhpY",
        "colab_type": "code",
        "colab": {}
      },
      "source": [
        "df_test=pd.read_csv(r'C:\\Users\\raman\\Downloads\\2901c100-b-Dataset\\Dataset\\test.csv')"
      ],
      "execution_count": 0,
      "outputs": []
    },
    {
      "cell_type": "code",
      "metadata": {
        "id": "odsvVX2VVhpd",
        "colab_type": "code",
        "colab": {},
        "outputId": "20ebc007-1010-40eb-8539-ba5b306a523d"
      },
      "source": [
        "df.shape"
      ],
      "execution_count": 0,
      "outputs": [
        {
          "output_type": "execute_result",
          "data": {
            "text/plain": [
              "(5959, 3)"
            ]
          },
          "metadata": {
            "tags": []
          },
          "execution_count": 94
        }
      ]
    },
    {
      "cell_type": "code",
      "metadata": {
        "id": "4ho4ox55Vhph",
        "colab_type": "code",
        "colab": {},
        "outputId": "9d67b42b-84c5-447a-ad4f-960b94e932bc"
      },
      "source": [
        "df.columns"
      ],
      "execution_count": 0,
      "outputs": [
        {
          "output_type": "execute_result",
          "data": {
            "text/plain": [
              "Index(['Review Text', 'Review Title', 'topic'], dtype='object')"
            ]
          },
          "metadata": {
            "tags": []
          },
          "execution_count": 95
        }
      ]
    },
    {
      "cell_type": "code",
      "metadata": {
        "id": "PIpsviX3Vhpm",
        "colab_type": "code",
        "colab": {},
        "outputId": "d1fd0851-0f4e-410e-ef1b-b7056ffdc813"
      },
      "source": [
        "df.isnull().sum(axis=0) #Checking Null values"
      ],
      "execution_count": 0,
      "outputs": [
        {
          "output_type": "execute_result",
          "data": {
            "text/plain": [
              "Review Text     0\n",
              "Review Title    0\n",
              "topic           0\n",
              "dtype: int64"
            ]
          },
          "metadata": {
            "tags": []
          },
          "execution_count": 96
        }
      ]
    },
    {
      "cell_type": "code",
      "metadata": {
        "id": "GQ9ed8pvVhpq",
        "colab_type": "code",
        "colab": {},
        "outputId": "6bad4896-f5e1-46c0-b5fb-dd47a0267ccb"
      },
      "source": [
        "print('Processing text dataset')"
      ],
      "execution_count": 0,
      "outputs": [
        {
          "output_type": "stream",
          "text": [
            "Processing text dataset\n"
          ],
          "name": "stdout"
        }
      ]
    },
    {
      "cell_type": "code",
      "metadata": {
        "id": "Nz2MZ5jtVhpv",
        "colab_type": "code",
        "colab": {}
      },
      "source": [
        "def text_to_wordlist(text, remove_stopwords=False, stem_words=False):\n",
        "    # Clean the text, with the option to remove stopwords and to stem words.\n",
        "    \n",
        "    # Convert words to lower case and split them\n",
        "    text = text.lower().split()\n",
        "\n",
        "    # Optionally, remove stop words\n",
        "    if remove_stopwords:\n",
        "        stops = set(stopwords.words(\"english\"))\n",
        "        text = [w for w in text if not w in stops]\n",
        "    \n",
        "    text = \" \".join(text)\n",
        "\n",
        "    # Clean the text\n",
        "    text = re.sub(r\"[^A-Za-z0-9^,!.\\/'+-=]\", \" \", text)\n",
        "    text = re.sub(r\"what's\", \"what is \", text)\n",
        "    text = re.sub(r\"\\'s\", \" \", text)\n",
        "    text = re.sub(r\"\\'ve\", \" have \", text)\n",
        "    text = re.sub(r\"can't\", \"cannot \", text)\n",
        "    text = re.sub(r\"n't\", \" not \", text)\n",
        "    text = re.sub(r\"i'm\", \"i am \", text)\n",
        "    text = re.sub(r\"\\'re\", \" are \", text)\n",
        "    text = re.sub(r\"\\'d\", \" would \", text)\n",
        "    text = re.sub(r\"\\'ll\", \" will \", text)\n",
        "    text = re.sub(r\",\", \" \", text)\n",
        "    text = re.sub(r\"\\.\", \" \", text)\n",
        "    text = re.sub(r\"!\", \" ! \", text)\n",
        "    text = re.sub(r\"\\/\", \" \", text)\n",
        "    text = re.sub(r\"\\^\", \" ^ \", text)\n",
        "    text = re.sub(r\"\\+\", \" + \", text)\n",
        "    text = re.sub(r\"\\-\", \" - \", text)\n",
        "    text = re.sub(r\"\\=\", \" = \", text)\n",
        "    text = re.sub(r\"'\", \" \", text)\n",
        "    text = re.sub(r\"\\s{2,}\", \" \", text)\n",
        "    \n",
        "    # Optionally, shorten words to their stems\n",
        "    if stem_words:\n",
        "        text = text.split()\n",
        "        stemmer = SnowballStemmer('english')\n",
        "        stemmed_words = [stemmer.stem(word) for word in text]\n",
        "        text = \" \".join(stemmed_words)\n",
        "    \n",
        "    # Return a list of words\n",
        "    return(text)\n",
        "\n",
        "\n"
      ],
      "execution_count": 0,
      "outputs": []
    },
    {
      "cell_type": "markdown",
      "metadata": {
        "id": "PfOSCYK0Vhpz",
        "colab_type": "text"
      },
      "source": [
        "## Initializaing parameters"
      ]
    },
    {
      "cell_type": "code",
      "metadata": {
        "id": "Izi6Sj0-Vhp1",
        "colab_type": "code",
        "colab": {}
      },
      "source": [
        "EMBEDDING_FILE = r'C:\\Users\\raman\\Downloads\\GoogleNews-vectors-negative300.bin\\GoogleNews-vectors-negative300.bin'\n",
        "TRAIN_DATA_FILE = r'C:\\Users\\raman\\Downloads\\2901c100-b-Dataset\\Dataset\\train.csv'\n",
        "TEST_DATA_FILE = r'C:\\Users\\raman\\Downloads\\2901c100-b-Dataset\\Dataset\\test.csv'\n",
        "MAX_NB_WORDS = 200000\n",
        "EMBEDDING_DIM = 300\n",
        "VALIDATION_SPLIT = 0.1"
      ],
      "execution_count": 0,
      "outputs": []
    },
    {
      "cell_type": "code",
      "metadata": {
        "id": "ZqdypVgwVhp5",
        "colab_type": "code",
        "colab": {},
        "outputId": "1a61d557-fe84-4a25-8608-8000e8fb4962"
      },
      "source": [
        "TRAIN_DATA_FILE"
      ],
      "execution_count": 0,
      "outputs": [
        {
          "output_type": "execute_result",
          "data": {
            "text/plain": [
              "'C:\\\\Users\\\\raman\\\\Downloads\\\\2901c100-b-Dataset\\\\Dataset\\\\train.csv'"
            ]
          },
          "metadata": {
            "tags": []
          },
          "execution_count": 5
        }
      ]
    },
    {
      "cell_type": "code",
      "metadata": {
        "id": "wOr3IY-nVhp-",
        "colab_type": "code",
        "colab": {}
      },
      "source": [
        "num_lstm = np.random.randint(175, 275)\n",
        "num_dense = np.random.randint(100, 150)\n",
        "rate_drop_lstm = 0.15 + np.random.rand() * 0.25\n",
        "rate_drop_dense = 0.15 + np.random.rand() * 0.25"
      ],
      "execution_count": 0,
      "outputs": []
    },
    {
      "cell_type": "code",
      "metadata": {
        "id": "R49gwMc7VhqC",
        "colab_type": "code",
        "colab": {}
      },
      "source": [
        "act = 'relu'\n",
        "re_weight = True"
      ],
      "execution_count": 0,
      "outputs": []
    },
    {
      "cell_type": "code",
      "metadata": {
        "id": "fySyOgjYVhqG",
        "colab_type": "code",
        "colab": {}
      },
      "source": [
        "STAMP = 'lstm_%d_%d_%.2f_%.2f'%(num_lstm, num_dense, rate_drop_lstm, \\\n",
        "        rate_drop_dense)"
      ],
      "execution_count": 0,
      "outputs": []
    },
    {
      "cell_type": "markdown",
      "metadata": {
        "id": "wCjwwrunVhqK",
        "colab_type": "text"
      },
      "source": [
        "### Word2Vec"
      ]
    },
    {
      "cell_type": "code",
      "metadata": {
        "id": "dGa07OkjVhqM",
        "colab_type": "code",
        "colab": {},
        "outputId": "6ec9d169-b0fa-4245-c6bb-903c3371e163"
      },
      "source": [
        "print('Indexing word vectors')\n",
        "\n",
        "word2vec = KeyedVectors.load_word2vec_format(EMBEDDING_FILE,binary=True)\n",
        "print('Found %s word vectors of word2vec' % len(word2vec.vocab))"
      ],
      "execution_count": 0,
      "outputs": [
        {
          "output_type": "stream",
          "text": [
            "Indexing word vectors\n",
            "Found 3000000 word vectors of word2vec\n"
          ],
          "name": "stdout"
        }
      ]
    },
    {
      "cell_type": "code",
      "metadata": {
        "id": "PrhtSUI_VhqR",
        "colab_type": "code",
        "colab": {}
      },
      "source": [
        "texts_1 = [] \n",
        "texts_2 = []\n",
        "labels = []"
      ],
      "execution_count": 0,
      "outputs": []
    },
    {
      "cell_type": "code",
      "metadata": {
        "id": "UpFgIjBUVhqV",
        "colab_type": "code",
        "colab": {}
      },
      "source": [
        "from sklearn import preprocessing"
      ],
      "execution_count": 0,
      "outputs": []
    },
    {
      "cell_type": "markdown",
      "metadata": {
        "id": "RMD0krA3Vhqb",
        "colab_type": "text"
      },
      "source": [
        "## Converting topics to labels and then to categorical variables"
      ]
    },
    {
      "cell_type": "code",
      "metadata": {
        "id": "RXbyyXzyVhqd",
        "colab_type": "code",
        "colab": {}
      },
      "source": [
        "LE = preprocessing.LabelEncoder()\n",
        "df['topic'] = LE.fit_transform(df['topic'])"
      ],
      "execution_count": 0,
      "outputs": []
    },
    {
      "cell_type": "code",
      "metadata": {
        "id": "CcNpoq6pVhqj",
        "colab_type": "code",
        "colab": {}
      },
      "source": [
        "k=LE.fit_transform(df1[\"topic\"])"
      ],
      "execution_count": 0,
      "outputs": []
    },
    {
      "cell_type": "code",
      "metadata": {
        "id": "4uZJ1ImVVhqn",
        "colab_type": "code",
        "colab": {}
      },
      "source": [
        "num_classes=21\n",
        "import keras.utils\n",
        "#Convert class vectors to binary class matrices\n",
        "Y_train = keras.utils.to_categorical(df[\"topic\"], num_classes)"
      ],
      "execution_count": 0,
      "outputs": []
    },
    {
      "cell_type": "code",
      "metadata": {
        "id": "hk3MQ3OFVhqw",
        "colab_type": "code",
        "colab": {},
        "outputId": "45e39f93-a7c0-4633-efe0-ce5e73d0df22"
      },
      "source": [
        "Y_train[0]"
      ],
      "execution_count": 0,
      "outputs": [
        {
          "output_type": "execute_result",
          "data": {
            "text/plain": [
              "array([0., 0., 0., 0., 0., 0., 0., 0., 0., 0., 0., 0., 0., 0., 0., 1., 0.,\n",
              "       0., 0., 0., 0.], dtype=float32)"
            ]
          },
          "metadata": {
            "tags": []
          },
          "execution_count": 20
        }
      ]
    },
    {
      "cell_type": "code",
      "metadata": {
        "id": "aVIPx-9mVhq3",
        "colab_type": "code",
        "colab": {}
      },
      "source": [
        "df1=pd.read_csv(r'C:\\Users\\raman\\Downloads\\2901c100-b-Dataset\\Dataset\\train.csv')"
      ],
      "execution_count": 0,
      "outputs": []
    },
    {
      "cell_type": "markdown",
      "metadata": {
        "id": "rvC2TKnOVhq7",
        "colab_type": "text"
      },
      "source": [
        "### Converting to words"
      ]
    },
    {
      "cell_type": "code",
      "metadata": {
        "id": "dfSwoyhWVhq8",
        "colab_type": "code",
        "colab": {},
        "outputId": "77460387-1718-4a91-de5f-9da7753e1d07"
      },
      "source": [
        "for i in range(df.shape[0]):\n",
        "    texts_1.append(text_to_wordlist(df[\"Review Text\"][i]))\n",
        "    texts_2.append(text_to_wordlist(df[\"Review Title\"][i]))\n",
        "    labels.append(int(df[\"topic\"][i]))\n",
        "    \n",
        "print('Found %s texts in train.csv' % len(texts_1))"
      ],
      "execution_count": 0,
      "outputs": [
        {
          "output_type": "stream",
          "text": [
            "Found 5959 texts in train.csv\n"
          ],
          "name": "stdout"
        }
      ]
    },
    {
      "cell_type": "code",
      "metadata": {
        "id": "9UfCiRHfVhrB",
        "colab_type": "code",
        "colab": {},
        "outputId": "91b8b247-7f73-4d02-b1cd-0167b1b33b9a"
      },
      "source": [
        "test_texts_1 = []\n",
        "test_texts_2 = []\n",
        "for i in range(df_test.shape[0]):\n",
        "    test_texts_1.append(text_to_wordlist(df_test[\"Review Text\"][i]))\n",
        "    test_texts_2.append(text_to_wordlist(df_test[\"Review Title\"][i]))\n",
        "print('Found %s texts in test.csv' % len(test_texts_1))"
      ],
      "execution_count": 0,
      "outputs": [
        {
          "output_type": "stream",
          "text": [
            "Found 2553 texts in test.csv\n"
          ],
          "name": "stdout"
        }
      ]
    },
    {
      "cell_type": "markdown",
      "metadata": {
        "id": "nat4cMaSVhrE",
        "colab_type": "text"
      },
      "source": [
        "### Tokenizing"
      ]
    },
    {
      "cell_type": "code",
      "metadata": {
        "id": "k-WSzokRVhrG",
        "colab_type": "code",
        "colab": {},
        "outputId": "3e28d25c-89dc-4b77-ec41-ae8253ca99c7"
      },
      "source": [
        "tokenizer = Tokenizer(num_words=MAX_NB_WORDS)\n",
        "tokenizer.fit_on_texts(texts_1 + texts_2 + test_texts_1 + test_texts_2)\n",
        "sequences_1 = tokenizer.texts_to_sequences(texts_1)\n",
        "sequences_2 = tokenizer.texts_to_sequences(texts_2)\n",
        "test_sequences_1 = tokenizer.texts_to_sequences(test_texts_1)\n",
        "test_sequences_2 = tokenizer.texts_to_sequences(test_texts_2)\n",
        "\n",
        "word_index = tokenizer.word_index\n",
        "print('Found %s unique tokens' % len(word_index))"
      ],
      "execution_count": 0,
      "outputs": [
        {
          "output_type": "stream",
          "text": [
            "Found 10312 unique tokens\n"
          ],
          "name": "stdout"
        }
      ]
    },
    {
      "cell_type": "markdown",
      "metadata": {
        "id": "nCVXKAasVhrJ",
        "colab_type": "text"
      },
      "source": [
        "### Padding to bring all sequences to equal length"
      ]
    },
    {
      "cell_type": "code",
      "metadata": {
        "id": "O91H1ghdVhrL",
        "colab_type": "code",
        "colab": {},
        "outputId": "d25d3b95-ad25-41c9-ec2b-2748cec8f9d4"
      },
      "source": [
        "data_1 = pad_sequences(sequences_1,maxlen=200)\n",
        "data_2 = pad_sequences(sequences_2,maxlen=200)\n",
        "labels = np.array(labels)\n",
        "print('Shape of data tensor:', data_1.shape)\n",
        "print('Shape of label tensor:', labels.shape)\n",
        "\n"
      ],
      "execution_count": 0,
      "outputs": [
        {
          "output_type": "stream",
          "text": [
            "Shape of data tensor: (5959, 200)\n",
            "Shape of label tensor: (5959,)\n"
          ],
          "name": "stdout"
        }
      ]
    },
    {
      "cell_type": "code",
      "metadata": {
        "id": "dYKhkjgqVhrP",
        "colab_type": "code",
        "colab": {}
      },
      "source": [
        "test_data_1 = pad_sequences(test_sequences_1,maxlen=200)\n",
        "test_data_2 = pad_sequences(test_sequences_2,maxlen=200)"
      ],
      "execution_count": 0,
      "outputs": []
    },
    {
      "cell_type": "markdown",
      "metadata": {
        "id": "8qDPvU33VhrT",
        "colab_type": "text"
      },
      "source": [
        "### Preparing Embedding matrix"
      ]
    },
    {
      "cell_type": "code",
      "metadata": {
        "id": "dIdBWqBxVhrU",
        "colab_type": "code",
        "colab": {},
        "outputId": "075c04a7-4ea5-4700-aa59-1b0d623fc097"
      },
      "source": [
        "print('Preparing embedding matrix')\n",
        "\n",
        "nb_words = min(MAX_NB_WORDS, len(word_index))+1\n",
        "\n",
        "embedding_matrix = np.zeros((nb_words, EMBEDDING_DIM))\n",
        "for word, i in word_index.items():\n",
        "    if word in word2vec.vocab:\n",
        "        embedding_matrix[i] = word2vec.word_vec(word)\n",
        "print('Null word embeddings: %d' % np.sum(np.sum(embedding_matrix, axis=1) == 0))\n"
      ],
      "execution_count": 0,
      "outputs": [
        {
          "output_type": "stream",
          "text": [
            "Preparing embedding matrix\n",
            "Null word embeddings: 1132\n"
          ],
          "name": "stdout"
        }
      ]
    },
    {
      "cell_type": "code",
      "metadata": {
        "id": "8DZ7rfNKVhrY",
        "colab_type": "code",
        "colab": {}
      },
      "source": [
        "perm = np.random.permutation(len(data_1))\n",
        "idx_train = perm[:int(len(data_1)*(1-VALIDATION_SPLIT))]\n",
        "idx_val = perm[int(len(data_1)*(1-VALIDATION_SPLIT)):]\n",
        "\n",
        "data_1_train = np.vstack((data_1[idx_train], data_2[idx_train]))\n",
        "data_2_train = np.vstack((data_2[idx_train], data_1[idx_train]))\n",
        "labels_train = np.concatenate((Y_train[idx_train], Y_train[idx_train]))\n",
        "\n",
        "data_1_val = np.vstack((data_1[idx_val], data_2[idx_val]))\n",
        "data_2_val = np.vstack((data_2[idx_val], data_1[idx_val]))\n",
        "labels_val = np.concatenate((Y_train[idx_val], Y_train[idx_val]))"
      ],
      "execution_count": 0,
      "outputs": []
    },
    {
      "cell_type": "markdown",
      "metadata": {
        "id": "dp7imgYSVhrd",
        "colab_type": "text"
      },
      "source": [
        "## Defining LSTM model"
      ]
    },
    {
      "cell_type": "code",
      "metadata": {
        "id": "0yzhYL9GVhre",
        "colab_type": "code",
        "colab": {}
      },
      "source": [
        "embedding_layer = Embedding(nb_words,\n",
        "        EMBEDDING_DIM,\n",
        "        weights=[embedding_matrix],\n",
        "        input_length=200,\n",
        "        trainable=False)\n",
        "lstm_layer = LSTM(2, dropout=0.2)\n",
        "\n",
        "sequence_1_input = Input(shape=(200,), dtype='int32')\n",
        "embedded_sequences_1 = embedding_layer(sequence_1_input)\n",
        "x1 = lstm_layer(embedded_sequences_1)\n",
        "\n",
        "sequence_2_input = Input(shape=(200,), dtype='int32')\n",
        "embedded_sequences_2 = embedding_layer(sequence_2_input)\n",
        "y1 = lstm_layer(embedded_sequences_2)\n",
        "\n",
        "merged = concatenate([x1, y1])\n",
        "merged = Dropout(0.2)(merged)\n",
        "merged = BatchNormalization()(merged)\n",
        "\n",
        "merged = Dense(512, activation=act)(merged)\n",
        "merged = Dropout(0.2)(merged)\n",
        "merged = BatchNormalization()(merged)\n",
        "\n",
        "merged = Dense(256, activation=act)(merged)\n",
        "merged = Dropout(0.2)(merged)\n",
        "merged = BatchNormalization()(merged)\n",
        "\n",
        "preds = Dense(21, activation='softmax')(merged)"
      ],
      "execution_count": 0,
      "outputs": []
    },
    {
      "cell_type": "code",
      "metadata": {
        "id": "OCzTVSQwVhrr",
        "colab_type": "code",
        "colab": {},
        "outputId": "c75e96f4-6051-40d1-cac4-1501378756f0"
      },
      "source": [
        "sequence_2_input.shape"
      ],
      "execution_count": 0,
      "outputs": [
        {
          "output_type": "execute_result",
          "data": {
            "text/plain": [
              "TensorShape([Dimension(None), Dimension(30)])"
            ]
          },
          "metadata": {
            "tags": []
          },
          "execution_count": 43
        }
      ]
    },
    {
      "cell_type": "code",
      "metadata": {
        "id": "LBtVHOJbVhrw",
        "colab_type": "code",
        "colab": {},
        "outputId": "a820e246-58c4-4b53-ec18-0e9f368b1427"
      },
      "source": [
        "model = Model(inputs=[sequence_1_input, sequence_2_input],outputs=preds)\n",
        "model.compile(loss='binary_crossentropy',\n",
        "        optimizer='nadam',\n",
        "        metrics=['acc'])\n",
        "#model.summary()\n",
        "print(STAMP)"
      ],
      "execution_count": 0,
      "outputs": [
        {
          "output_type": "stream",
          "text": [
            "lstm_214_133_0.34_0.38\n"
          ],
          "name": "stdout"
        }
      ]
    },
    {
      "cell_type": "markdown",
      "metadata": {
        "id": "889JSJLYVhr0",
        "colab_type": "text"
      },
      "source": [
        "## Training model"
      ]
    },
    {
      "cell_type": "code",
      "metadata": {
        "id": "eV7da3ndVhr2",
        "colab_type": "code",
        "colab": {},
        "outputId": "ee70f155-1d19-48ca-d96b-f137fa456cbf"
      },
      "source": [
        "early_stopping =EarlyStopping(monitor='val_loss', patience=3)\n",
        "bst_model_path = STAMP + '.h5'\n",
        "model_checkpoint = ModelCheckpoint(bst_model_path, save_best_only=True, save_weights_only=True)\n",
        "\n",
        "#hist = model.fit([data_1_train, data_2_train], Y_train,epochs=10, batch_size=500,validation_spilt=0.2)\n",
        "hist = model.fit([data_1_train, data_2_train], labels_train, \\\n",
        "        validation_data=([data_1_val, data_2_val], labels_val), \\\n",
        "        epochs=10, batch_size=500,callbacks=[early_stopping, model_checkpoint])\n",
        "model.load_weights(bst_model_path)\n",
        "bst_val_score = min(hist.history['val_loss'])"
      ],
      "execution_count": 0,
      "outputs": [
        {
          "output_type": "stream",
          "text": [
            "WARNING:tensorflow:From C:\\Users\\raman\\Anaconda3\\lib\\site-packages\\tensorflow\\python\\ops\\math_ops.py:3066: to_int32 (from tensorflow.python.ops.math_ops) is deprecated and will be removed in a future version.\n",
            "Instructions for updating:\n",
            "Use tf.cast instead.\n",
            "Train on 10726 samples, validate on 1192 samples\n",
            "Epoch 1/10\n",
            "10726/10726 [==============================] - 57s 5ms/step - loss: 0.2033 - acc: 0.9507 - val_loss: 0.1824 - val_acc: 0.9524\n",
            "Epoch 2/10\n",
            "10726/10726 [==============================] - 42s 4ms/step - loss: 0.1791 - acc: 0.9518 - val_loss: 0.1692 - val_acc: 0.9523\n",
            "Epoch 3/10\n",
            "10726/10726 [==============================] - 48s 4ms/step - loss: 0.1683 - acc: 0.9519 - val_loss: 0.1596 - val_acc: 0.9541\n",
            "Epoch 4/10\n",
            "10726/10726 [==============================] - 49s 5ms/step - loss: 0.1609 - acc: 0.9521 - val_loss: 0.1549 - val_acc: 0.9536\n",
            "Epoch 5/10\n",
            "10726/10726 [==============================] - 46s 4ms/step - loss: 0.1561 - acc: 0.9526 - val_loss: 0.1492 - val_acc: 0.9548\n",
            "Epoch 6/10\n",
            "10726/10726 [==============================] - 42s 4ms/step - loss: 0.1539 - acc: 0.9528 - val_loss: 0.1476 - val_acc: 0.9547\n",
            "Epoch 7/10\n",
            "10726/10726 [==============================] - 44s 4ms/step - loss: 0.1506 - acc: 0.9533 - val_loss: 0.1455 - val_acc: 0.9541\n",
            "Epoch 8/10\n",
            "10726/10726 [==============================] - 43s 4ms/step - loss: 0.1491 - acc: 0.9537 - val_loss: 0.1427 - val_acc: 0.9562\n",
            "Epoch 9/10\n",
            "10726/10726 [==============================] - 44s 4ms/step - loss: 0.1470 - acc: 0.9542 - val_loss: 0.1409 - val_acc: 0.9560\n",
            "Epoch 10/10\n",
            "10726/10726 [==============================] - 45s 4ms/step - loss: 0.1456 - acc: 0.9543 - val_loss: 0.1396 - val_acc: 0.9561\n"
          ],
          "name": "stdout"
        }
      ]
    },
    {
      "cell_type": "markdown",
      "metadata": {
        "id": "xUXSUXmIVhr7",
        "colab_type": "text"
      },
      "source": [
        "## Plotting loss"
      ]
    },
    {
      "cell_type": "code",
      "metadata": {
        "id": "bfGUjaxZVhr9",
        "colab_type": "code",
        "colab": {},
        "outputId": "ceb8d2ec-a28f-4efb-b30d-63ce89929136"
      },
      "source": [
        "import matplotlib.pyplot as plt\n",
        "\n",
        "loss = hist.history['loss']\n",
        "val_loss = hist.history['val_loss']\n",
        "\n",
        "epochs = range(1, len(acc) + 1)\n",
        "\n",
        "plt.figure()\n",
        "\n",
        "plt.plot(epochs, loss, 'bo', label='Training loss')\n",
        "plt.plot(epochs, val_loss, 'b', label='Validation loss')\n",
        "plt.title('Training and validation loss')\n",
        "plt.legend()\n",
        "\n",
        "plt.show()\n"
      ],
      "execution_count": 0,
      "outputs": [
        {
          "output_type": "display_data",
          "data": {
            "image/png": "[encoded data removed]",
            "text/plain": [
              "<Figure size 432x288 with 1 Axes>"
            ]
          },
          "metadata": {
            "tags": []
          }
        }
      ]
    },
    {
      "cell_type": "markdown",
      "metadata": {
        "id": "13Jz6vmmVhsF",
        "colab_type": "text"
      },
      "source": [
        "## Making predictions"
      ]
    },
    {
      "cell_type": "code",
      "metadata": {
        "id": "StBR_uSYVhsH",
        "colab_type": "code",
        "colab": {},
        "outputId": "2a645747-b059-45e5-9fee-f68b8567b95c"
      },
      "source": [
        "print('Start making the submission before fine-tuning')\n",
        "\n",
        "preds = model.predict([test_data_1, test_data_2], verbose=1)\n",
        "\n",
        "submission = pd.DataFrame(preds)\n"
      ],
      "execution_count": 0,
      "outputs": [
        {
          "output_type": "stream",
          "text": [
            "Start making the submission before fine-tuning\n",
            "2553/2553 [==============================] - 7s 3ms/step\n"
          ],
          "name": "stdout"
        }
      ]
    },
    {
      "cell_type": "code",
      "metadata": {
        "id": "JtZ3_VsrVhsL",
        "colab_type": "code",
        "colab": {}
      },
      "source": [
        "pred=submission.idxmax(axis=1)"
      ],
      "execution_count": 0,
      "outputs": []
    },
    {
      "cell_type": "code",
      "metadata": {
        "id": "Wtzbpz13VhsO",
        "colab_type": "code",
        "colab": {}
      },
      "source": [
        "true_lab=LE.inverse_transform(pred) ## Converting back to labels"
      ],
      "execution_count": 0,
      "outputs": []
    },
    {
      "cell_type": "code",
      "metadata": {
        "id": "IN-fq4VBVhsS",
        "colab_type": "code",
        "colab": {},
        "outputId": "75ae8772-192c-4214-a715-c995e5094057"
      },
      "source": [
        "true_lab"
      ],
      "execution_count": 0,
      "outputs": [
        {
          "output_type": "execute_result",
          "data": {
            "text/plain": [
              "array(['Bad Taste/Flavor', 'Bad Taste/Flavor', 'Not Effective', ...,\n",
              "       'Bad Taste/Flavor', 'Quality/Contaminated', 'Too big to swallow'],\n",
              "      dtype=object)"
            ]
          },
          "metadata": {
            "tags": []
          },
          "execution_count": 84
        }
      ]
    },
    {
      "cell_type": "code",
      "metadata": {
        "id": "NuETGsK-VhsV",
        "colab_type": "code",
        "colab": {}
      },
      "source": [
        "TR=pd.DataFrame(true_lab)"
      ],
      "execution_count": 0,
      "outputs": []
    },
    {
      "cell_type": "code",
      "metadata": {
        "id": "VP1__mUxVhsY",
        "colab_type": "code",
        "colab": {}
      },
      "source": [
        "TR.to_csv(\"Truelabels.csv\") # Saving preictions"
      ],
      "execution_count": 0,
      "outputs": []
    },
    {
      "cell_type": "code",
      "metadata": {
        "id": "ZQzSq1RyVhse",
        "colab_type": "code",
        "colab": {}
      },
      "source": [
        ""
      ],
      "execution_count": 0,
      "outputs": []
    }
  ]
}